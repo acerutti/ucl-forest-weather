{
 "cells": [
  {
   "cell_type": "markdown",
   "metadata": {},
   "source": [
    "## Sanity Check Before Merging Forest Data and Weather Data"
   ]
  },
  {
   "cell_type": "code",
   "execution_count": 4,
   "metadata": {},
   "outputs": [
    {
     "name": "stdout",
     "output_type": "stream",
     "text": [
      "                           label             merged_label  latitude  \\\n",
      "0              Timber plantation               Plantation  4.430849   \n",
      "1                          Other                    Other  1.332341   \n",
      "2            Grassland shrubland      Grassland shrubland -1.720266   \n",
      "3        Small-scale agriculture  Smallholder agriculture -2.248346   \n",
      "4  Other large-scale plantations               Plantation -2.100800   \n",
      "\n",
      "    longitude  year                                    example_path  \\\n",
      "0   96.101634  2014     examples/4.430849118860583_96.1016343478138   \n",
      "1  109.374229  2012  examples/1.3323406178609702_109.37422873130464   \n",
      "2  115.006996  2016  examples/-1.720266384577504_115.00699582064485   \n",
      "3  104.135786  2011   examples/-2.248346072674411_104.1357857482906   \n",
      "4  113.022376  2008   examples/-2.100800102991412_113.0223763234016   \n",
      "\n",
      "            province  average_temp  average_rain  \n",
      "0               aceh     21.329589        3836.4  \n",
      "1   kalimantan barat           NaN           NaN  \n",
      "2  kalimantan tengah           NaN           NaN  \n",
      "3   sumatera selatan           NaN           NaN  \n",
      "4  kalimantan tengah           NaN           NaN  \n",
      "Number of entries with temperature data: 993\n",
      "Number of entries with precipitation data: 1127\n"
     ]
    }
   ],
   "source": [
    "import pandas as pd\n",
    "\n",
    "# import the data\n",
    "deforestation = pd.read_csv(\"data/deforestation_causes_regions.csv\")\n",
    "weather = pd.read_csv(\"data/combined_weather_data.csv\")\n",
    "\n",
    "# making the provinces lower case\n",
    "deforestation['province'] = deforestation['province'].str.lower()\n",
    "weather['province'] = weather['province'].str.lower()\n",
    "\n",
    "# Perform the left join\n",
    "df_merged = pd.merge(deforestation, weather, on=['year', 'province'], how='left')\n",
    "\n",
    "# Display the head of the merged DataFrame\n",
    "print(df_merged.head())\n",
    "\n",
    "# Assuming df_merged is your merged DataFrame from the previous step\n",
    "temp_entries_count = df_merged['average_temp'].count()\n",
    "rain_entries_count = df_merged['average_rain'].count()\n",
    "\n",
    "print(f'Number of entries with temperature data: {temp_entries_count}')\n",
    "print(f'Number of entries with precipitation data: {rain_entries_count}')\n",
    "\n",
    "# save to csv\n",
    "#df_merged.to_csv(\"data/df_merged_weather_deforestation.csv\")"
   ]
  }
 ],
 "metadata": {
  "kernelspec": {
   "display_name": "base",
   "language": "python",
   "name": "python3"
  },
  "language_info": {
   "codemirror_mode": {
    "name": "ipython",
    "version": 3
   },
   "file_extension": ".py",
   "mimetype": "text/x-python",
   "name": "python",
   "nbconvert_exporter": "python",
   "pygments_lexer": "ipython3",
   "version": "3.11.7"
  }
 },
 "nbformat": 4,
 "nbformat_minor": 2
}
